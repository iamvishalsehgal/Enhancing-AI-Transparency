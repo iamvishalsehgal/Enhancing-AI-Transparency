{
 "cells": [
  {
   "cell_type": "code",
   "execution_count": 8,
   "id": "fa33de29",
   "metadata": {},
   "outputs": [],
   "source": [
    "from rdflib import Graph, Namespace\n",
    "import csv\n",
    "import re\n",
    "\n",
    "# Load RDF graph\n",
    "graph = Graph()\n",
    "graph.parse(\"extracted_triples.ttl\", format=\"turtle\")\n",
    "\n",
    "# Define namespaces\n",
    "obo = Namespace(\"http://purl.obolibrary.org/obo/\")\n",
    "\n",
    "# Extract triples\n",
    "triples = []\n",
    "for s, p, o in graph:\n",
    "    # Clean URIs for Neo4j labels\n",
    "    def clean_uri(uri):\n",
    "        return re.sub(r\"[^a-zA-Z0-9]\", \"\", str(uri.split(\"/\")[-1]))\n",
    "    \n",
    "    triples.append((clean_uri(s), clean_uri(p), clean_uri(o)))\n",
    "\n",
    "# Write nodes.csv (all unique entities)\n",
    "nodes = set()\n",
    "for s, _, o in triples:\n",
    "    nodes.add(s)\n",
    "    nodes.add(o)\n",
    "\n",
    "with open(\"nodes.csv\", \"w\", newline=\"\") as f:\n",
    "    writer = csv.writer(f)\n",
    "    writer.writerow([\"id:ID\", \"name\"])\n",
    "    for i, node in enumerate(nodes):\n",
    "        writer.writerow([i, node])\n",
    "\n",
    "# Write relationships.csv\n",
    "with open(\"relationships.csv\", \"w\", newline=\"\") as f:\n",
    "    writer = csv.writer(f)\n",
    "    writer.writerow([\":START_ID\", \"type\", \":END_ID\"])\n",
    "    \n",
    "    for s, p, o in triples:\n",
    "        src = list(nodes).index(s)\n",
    "        dst = list(nodes).index(o)\n",
    "        writer.writerow([src, p, dst])"
   ]
  }
 ],
 "metadata": {
  "kernelspec": {
   "display_name": ".venv",
   "language": "python",
   "name": "python3"
  },
  "language_info": {
   "codemirror_mode": {
    "name": "ipython",
    "version": 3
   },
   "file_extension": ".py",
   "mimetype": "text/x-python",
   "name": "python",
   "nbconvert_exporter": "python",
   "pygments_lexer": "ipython3",
   "version": "3.9.6"
  }
 },
 "nbformat": 4,
 "nbformat_minor": 5
}
