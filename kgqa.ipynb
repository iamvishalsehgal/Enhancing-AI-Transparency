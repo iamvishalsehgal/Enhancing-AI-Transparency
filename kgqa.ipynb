def gemini_to_sparql(question):
    prompt = f"""
    Convert this question into a SPARQL query:
    "{question}"

    Use these prefixes:
    PREFIX mcro: <http://purl.obolibrary.org/obo/MCRO_>
    PREFIX prov1: <https://www.w3.org/ns/prov#>

    Return ONLY the SPARQL query.
    """
    response = model.generate_content(prompt)
    return response.text.strip()

# Example usage
question = "What datasets were used to train the Falcon NSFW model?"
sparql_query = gemini_to_sparql(question)
results = graphdb_client.query(sparql_query)
print(results)